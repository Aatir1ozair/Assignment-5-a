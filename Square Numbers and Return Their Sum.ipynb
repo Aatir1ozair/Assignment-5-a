{
 "cells": [
  {
   "cell_type": "code",
   "execution_count": 1,
   "id": "06717fa5",
   "metadata": {},
   "outputs": [
    {
     "data": {
      "text/plain": [
       "35"
      ]
     },
     "execution_count": 1,
     "metadata": {},
     "output_type": "execute_result"
    }
   ],
   "source": [
    "# Square Numbers and Return Their Sum\n",
    "\n",
    "\n",
    "class point:\n",
    "    def __init__(self,x,y,z):\n",
    "        self.x =x\n",
    "        self.y =y\n",
    "        self.z =z\n",
    "        \n",
    "    def sqsum(self):\n",
    "        self.x **=2\n",
    "        self.y **=2\n",
    "        self.z **=2\n",
    "        return self.x + self.y + self.z\n",
    "    \n",
    "x=point(1,3,5)\n",
    "x.sqsum()"
   ]
  }
 ],
 "metadata": {
  "kernelspec": {
   "display_name": "Python 3 (ipykernel)",
   "language": "python",
   "name": "python3"
  },
  "language_info": {
   "codemirror_mode": {
    "name": "ipython",
    "version": 3
   },
   "file_extension": ".py",
   "mimetype": "text/x-python",
   "name": "python",
   "nbconvert_exporter": "python",
   "pygments_lexer": "ipython3",
   "version": "3.9.12"
  }
 },
 "nbformat": 4,
 "nbformat_minor": 5
}
